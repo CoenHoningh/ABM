{
 "cells": [
  {
   "cell_type": "code",
   "execution_count": null,
   "metadata": {},
   "outputs": [],
   "source": [
    "import os\n",
    "import numpy as np\n",
    "import pandas as pd\n",
    "path = 'batch_run_2/'\n",
    "bla = os.listdir('batch_run_2/')\n",
    "bla.sort()\n",
    "runs = []\n",
    "import matplotlib as mpl\n",
    "mpl.rcParams['figure.dpi']= 200\n",
    "from matplotlib.lines import Line2D\n",
    "%matplotlib notebook"
   ]
  },
  {
   "cell_type": "code",
   "execution_count": null,
   "metadata": {},
   "outputs": [],
   "source": [
    "import matplotlib.pyplot as plt\n",
    "from mpl_toolkits.mplot3d import Axes3D\n",
    "%matplotlib notebook"
   ]
  },
  {
   "cell_type": "code",
   "execution_count": null,
   "metadata": {},
   "outputs": [],
   "source": [
    "for file in bla:\n",
    "  runs.append(pd.read_csv(path+file))"
   ]
  },
  {
   "cell_type": "code",
   "execution_count": null,
   "metadata": {},
   "outputs": [],
   "source": [
    "means = []\n",
    "stds = []\n",
    "for run in runs:\n",
    "  means.append(run.mean())\n",
    "  stds.append(run.std())"
   ]
  },
  {
   "cell_type": "code",
   "execution_count": null,
   "metadata": {},
   "outputs": [],
   "source": [
    "means2 = means[:-1]\n",
    "stds2 = stds[:-1]"
   ]
  },
  {
   "cell_type": "code",
   "execution_count": null,
   "metadata": {},
   "outputs": [],
   "source": [
    "df = pd.DataFrame(means2)\n",
    "dfs = pd.DataFrame(stds2)"
   ]
  },
  {
   "cell_type": "code",
   "execution_count": null,
   "metadata": {},
   "outputs": [],
   "source": [
    "df['avg_speed_std'] = dfs['avg_speed']\n",
    "df['cars_in_lane_std'] = dfs['cars_in_lane']"
   ]
  },
  {
   "cell_type": "code",
   "execution_count": null,
   "metadata": {
    "scrolled": true
   },
   "outputs": [],
   "source": [
    "df"
   ]
  },
  {
   "cell_type": "code",
   "execution_count": null,
   "metadata": {
    "scrolled": true
   },
   "outputs": [],
   "source": [
    "def std_error_calc(x,y):\n",
    "    unique_values = x.unique().tolist()\n",
    "    unique_values.sort()\n",
    "    positions = []\n",
    "    for i in unique_values:\n",
    "        counter = 0\n",
    "        cache = []\n",
    "        for k in x.tolist():\n",
    "            if i == k:\n",
    "                cache.append(counter)\n",
    "            counter = counter +1\n",
    "        positions.append(cache)\n",
    "    values = []\n",
    "    for i in positions:\n",
    "        cache = []\n",
    "        for k in i:\n",
    "            cache.append(y.tolist()[k])\n",
    "        values.append(cache)\n",
    "    errors = []\n",
    "    means = []\n",
    "    for i in values:\n",
    "        errors.append(1.96*np.std(i)/np.sqrt(len(i)))\n",
    "        means.append(np.mean(i))\n",
    "    return np.asarray(unique_values),np.asarray(means),np.asarray(errors)"
   ]
  },
  {
   "cell_type": "code",
   "execution_count": null,
   "metadata": {
    "scrolled": false
   },
   "outputs": [],
   "source": [
    "ofat1 = df.loc[(df['spawn_chance'] > 0.3) & (df['spawn_chance'] < 0.5)]\n",
    "ofat1 = ofat1.loc[(ofat1['agression'] >0.4) & (ofat1['agression'] < 0.6)]\n",
    "\n",
    "fig, ax1 = plt.subplots()\n",
    "x,y,errors = std_error_calc(ofat1['min_gap'],ofat1['avg_speed'])\n",
    "ax1.plot(x,y, marker = 'o', c = 'r')\n",
    "ax1.fill_between(x, y - errors,y+errors, color = 'r', alpha = 0.5)\n",
    "\n",
    "ax1.set_xlabel('Minimal gap [m]')\n",
    "ax1.set_ylabel('Average speed [km/h]')\n",
    "ax1.legend(('Average speed',), loc = 1)\n",
    "ax2 = ax1.twinx()\n",
    "x,y,errors = std_error_calc(ofat1['min_gap'],ofat1['cars_in_lane'])\n",
    "\n",
    "ax2.plot(x,y, marker = 'o', c = '#1f77b4')\n",
    "ax2.fill_between(x, y - errors,y+errors, color = '#1f77b4', alpha = 0.5)\n",
    "ax1.legend(('Average speed',), loc = 1)\n",
    "ax2.legend(('Cars per lane',), loc = 4)\n",
    "ax2.set_ylabel('Cars per lane')\n",
    "\n",
    "fig.tight_layout()\n",
    "plt.show()\n"
   ]
  },
  {
   "cell_type": "code",
   "execution_count": null,
   "metadata": {},
   "outputs": [],
   "source": [
    "ofat1 = df.loc[(df['min_gap'] > 2.1) & (df['min_gap'] < 2.6)]\n",
    "ofat1 = ofat1.loc[(ofat1['agression'] >0.4) & (ofat1['agression'] < 0.6)]\n",
    "\n",
    "fig, ax1 = plt.subplots()\n",
    "x,y,errors = std_error_calc(ofat1['spawn_chance'],ofat1['avg_speed'])\n",
    "ax1.plot(x,y, marker = 'o', c = 'r')\n",
    "ax1.fill_between(x, y - errors,y+errors, color = 'r', alpha = 0.5)\n",
    "\n",
    "ax1.set_xlabel('Spawn')\n",
    "ax1.set_ylabel('Average speed [km/h]')\n",
    "ax1.legend(('Average speed',), loc = 1)\n",
    "ax2 = ax1.twinx()\n",
    "x,y,errors = std_error_calc(ofat1['spawn_chance'],ofat1['cars_in_lane'])\n",
    "\n",
    "ax2.plot(x,y, marker = 'o', c = '#1f77b4')\n",
    "ax2.fill_between(x, y - errors,y+errors, color = '#1f77b4', alpha = 0.5)\n",
    "ax1.legend(('Average speed',), loc = 8)\n",
    "ax2.legend(('Cars per lane',), loc = 2)\n",
    "ax2.set_ylabel('Cars per lane')\n",
    "\n",
    "fig.tight_layout()\n",
    "plt.show()\n"
   ]
  },
  {
   "cell_type": "code",
   "execution_count": null,
   "metadata": {},
   "outputs": [],
   "source": [
    "ofat1 = df.loc[(df['spawn_chance'] > 0.3) & (df['spawn_chance'] < 0.5)]\n",
    "ofat1 = df.loc[(df['min_gap'] > 2.1) & (df['min_gap'] < 2.6)]\n",
    "\n",
    "fig, ax1 = plt.subplots()\n",
    "x,y,errors = std_error_calc(ofat1['agression'],ofat1['avg_speed'])\n",
    "ax1.plot(x,y, marker = 'o', c = 'r')\n",
    "ax1.fill_between(x, y - errors,y+errors, color = 'r', alpha = 0.5)\n",
    "\n",
    "ax1.set_xlabel('Agression')\n",
    "ax1.set_ylabel('Average speed [km/h]')\n",
    "ax1.legend(('Average speed',), loc = 1)\n",
    "ax2 = ax1.twinx()\n",
    "x,y,errors = std_error_calc(ofat1['agression'],ofat1['cars_in_lane'])\n",
    "\n",
    "ax2.plot(x,y, marker = 'o', c = '#1f77b4')\n",
    "ax2.fill_between(x, y - errors,y+errors, color = '#1f77b4', alpha = 0.5)\n",
    "ax1.legend(('Average speed',), loc = 8)\n",
    "ax2.legend(('Cars per lane',), loc = 2)\n",
    "ax2.set_ylabel('Cars per lane')\n",
    "\n",
    "fig.tight_layout()\n",
    "plt.show()\n"
   ]
  },
  {
   "cell_type": "code",
   "execution_count": null,
   "metadata": {},
   "outputs": [],
   "source": [
    "driedee = plt.figure(figsize=(5,5)).gca(projection='3d')\n",
    "x_as = 'agression'\n",
    "y_as = 'min_gap'\n",
    "z_as = 'cars_in_lane'\n",
    "kleur = 'cars_in_lane_std'\n",
    "p = driedee.scatter(df[x_as], df[y_as], df[z_as], c=df[kleur])\n",
    "driedee.set_xlabel(x_as)\n",
    "driedee.set_ylabel(y_as)\n",
    "driedee.set_zlabel(z_as)\n",
    "plt.colorbar(p)\n",
    "plt.show()"
   ]
  },
  {
   "cell_type": "code",
   "execution_count": null,
   "metadata": {
    "scrolled": false
   },
   "outputs": [],
   "source": [
    "plt.figure(figsize=(10,10))\n",
    "plt.scatter(df['agression'], df['avg_speed'])\n",
    "plt.show()"
   ]
  },
  {
   "cell_type": "code",
   "execution_count": null,
   "metadata": {
    "scrolled": false
   },
   "outputs": [],
   "source": [
    "plt.figure(figsize=(10,10))\n",
    "plt.scatter(df['min_gap'], df['avg_speed'])\n",
    "plt.show()"
   ]
  },
  {
   "cell_type": "code",
   "execution_count": null,
   "metadata": {},
   "outputs": [],
   "source": [
    "run3 = pd.read_csv('br3.csv')"
   ]
  },
  {
   "cell_type": "code",
   "execution_count": null,
   "metadata": {},
   "outputs": [],
   "source": [
    "run3.drop(run3.columns[0], axis=1, inplace=True)"
   ]
  },
  {
   "cell_type": "code",
   "execution_count": null,
   "metadata": {},
   "outputs": [],
   "source": [
    "run3_group = run3.groupby('Run')"
   ]
  },
  {
   "cell_type": "code",
   "execution_count": null,
   "metadata": {},
   "outputs": [],
   "source": [
    "import numpy as np\n",
    "s3 = run3_group.agg([np.mean, np.std])"
   ]
  },
  {
   "cell_type": "code",
   "execution_count": null,
   "metadata": {
    "scrolled": true
   },
   "outputs": [],
   "source": [
    "s3"
   ]
  },
  {
   "cell_type": "code",
   "execution_count": null,
   "metadata": {},
   "outputs": [],
   "source": [
    "s3.columns"
   ]
  },
  {
   "cell_type": "code",
   "execution_count": null,
   "metadata": {
    "scrolled": false
   },
   "outputs": [],
   "source": [
    "driedee = plt.figure(figsize=(4,4)).gca(projection='3d')\n",
    "x_as = 'agression'\n",
    "y_as = 'spawn_rate'\n",
    "z_as = 'Avg_speed'\n",
    "kleur = 'Avg_speed'\n",
    "p = driedee.scatter(1-s3[x_as,'mean'], s3[y_as,'mean'], s3[z_as,'mean'], c=s3[kleur,'std'])\n",
    "driedee.set_xlabel(x_as)\n",
    "driedee.set_ylabel(y_as)\n",
    "driedee.set_zlabel(z_as)\n",
    "plt.colorbar(p)\n",
    "plt.show()"
   ]
  },
  {
   "cell_type": "code",
   "execution_count": null,
   "metadata": {
    "scrolled": true
   },
   "outputs": [],
   "source": [
    "df['agression']"
   ]
  },
  {
   "cell_type": "code",
   "execution_count": null,
   "metadata": {},
   "outputs": [],
   "source": [
    "run_lanes = pd.read_csv('batch_run_lanes.csv')"
   ]
  },
  {
   "cell_type": "code",
   "execution_count": null,
   "metadata": {},
   "outputs": [],
   "source": [
    "run_lanes.drop(run_lanes.columns[0], axis=1, inplace=True)"
   ]
  },
  {
   "cell_type": "code",
   "execution_count": null,
   "metadata": {},
   "outputs": [],
   "source": [
    "run_lanes_group = run_lanes.groupby('Run')"
   ]
  },
  {
   "cell_type": "code",
   "execution_count": null,
   "metadata": {
    "scrolled": true
   },
   "outputs": [],
   "source": [
    "rlg_5000 = run_lanes_group.tail(5000).groupby('Run')"
   ]
  },
  {
   "cell_type": "code",
   "execution_count": null,
   "metadata": {},
   "outputs": [],
   "source": [
    "import numpy as np\n",
    "rlanes = rlg_5000.agg(np.mean)"
   ]
  },
  {
   "cell_type": "code",
   "execution_count": null,
   "metadata": {
    "scrolled": true
   },
   "outputs": [],
   "source": [
    "rlanes"
   ]
  },
  {
   "cell_type": "code",
   "execution_count": null,
   "metadata": {},
   "outputs": [],
   "source": [
    "rl2 = pd.read_csv('batch_lanes_2.csv')\n",
    "rl2.drop(rl2.columns[0], axis=1, inplace=True)\n",
    "rl2g = rl2.groupby('Run')\n",
    "rl2g = rl2g.tail(5000).groupby('Run')\n",
    "rl2gm = rl2g.agg(np.mean)"
   ]
  },
  {
   "cell_type": "code",
   "execution_count": null,
   "metadata": {},
   "outputs": [],
   "source": [
    "rl3 = pd.read_csv('batch_run_lanes_Toby.csv')\n",
    "rl3.drop(rl3.columns[0], axis=1, inplace=True)\n",
    "rl3g = rl3.groupby('Run')\n",
    "rl3g = rl3g.tail(4000).groupby('Run')\n",
    "rl3gm = rl3g.agg(np.mean)"
   ]
  },
  {
   "cell_type": "code",
   "execution_count": null,
   "metadata": {},
   "outputs": [],
   "source": [
    "rl4 = pd.read_csv('lanes_local.csv')\n",
    "rl4.drop(rl4.columns[0], axis=1, inplace=True)\n",
    "rl4g = rl4.groupby('Run')\n",
    "rl4g = rl4g.tail(5000).groupby('Run')\n",
    "rl4gm = rl4g.agg(np.mean)"
   ]
  },
  {
   "cell_type": "code",
   "execution_count": null,
   "metadata": {},
   "outputs": [],
   "source": [
    "rl5 = pd.read_csv('lennart.csv')\n",
    "rl5.drop(rl5.columns[0], axis=1, inplace=True)\n",
    "rl5g = rl5.groupby('Run')\n",
    "rl5g = rl5g.tail(5000).groupby('Run')\n",
    "rl5gm = rl5g.agg(np.mean)"
   ]
  },
  {
   "cell_type": "code",
   "execution_count": null,
   "metadata": {},
   "outputs": [],
   "source": [
    "rl6 = pd.read_csv('toby2.csv')\n",
    "rl6.drop(rl6.columns[0], axis=1, inplace=True)\n",
    "rl6g = rl6.groupby('Run')\n",
    "rl6g = rl6g.tail(5000).groupby('Run')\n",
    "rl6gm = rl6g.agg(np.mean)"
   ]
  },
  {
   "cell_type": "code",
   "execution_count": null,
   "metadata": {
    "scrolled": false
   },
   "outputs": [],
   "source": [
    "x_as = 'Avg_speed'\n",
    "z_as = 'spawn_chance'\n",
    "y_as = 'Cars_in_lane'\n",
    "kleur = 'lanes'\n",
    "plt.figure(figsize=(5,5))\n",
    "plt.scatter(rl3gm[x_as], rl3gm[y_as], c=rl3gm[kleur])\n",
    "plt.show()"
   ]
  },
  {
   "cell_type": "code",
   "execution_count": null,
   "metadata": {},
   "outputs": [],
   "source": [
    "driedee = plt.figure(figsize=(5,5)).gca(projection='3d')\n",
    "x_as = 'agression'\n",
    "y_as = 'Cars_in_lane'\n",
    "z_as = 'Avg_speed'\n",
    "kleur = 'lanes'\n",
    "p = driedee.scatter(rlanes[x_as], rlanes[y_as], rlanes[z_as], c=rlanes[kleur])\n",
    "p2 = driedee.scatter(rl2gm[x_as], rl2gm[y_as], rl2gm[z_as], c=rl2gm[kleur])\n",
    "p3 = driedee.scatter(rl3gm[x_as], rl3gm[y_as], rl3gm[z_as], c=rl3gm[kleur])\n",
    "driedee.set_xlabel(x_as)\n",
    "driedee.set_ylabel(y_as)\n",
    "driedee.set_zlabel(z_as)\n",
    "plt.colorbar(p)\n",
    "plt.show()"
   ]
  },
  {
   "cell_type": "code",
   "execution_count": null,
   "metadata": {
    "scrolled": false
   },
   "outputs": [],
   "source": [
    "driedee = plt.figure(figsize=(10,10)).gca(projection='3d')\n",
    "x_as = 'agression'\n",
    "y_as = 'spawn_chance'\n",
    "z_as = 'Cars_in_lane'\n",
    "kleur = 'lanes'\n",
    "p = driedee.scatter(rlanes[x_as], rlanes[y_as], rlanes[z_as], c=rlanes[kleur])\n",
    "p2 = driedee.scatter(rl2gm[x_as], rl2gm[y_as], rl2gm[z_as], c=rl2gm[kleur])\n",
    "p3 = driedee.scatter(rl3gm[x_as], rl3gm[y_as], rl3gm[z_as], c=rl3gm[kleur])\n",
    "driedee.set_xlabel(x_as)\n",
    "driedee.set_ylabel(y_as)\n",
    "driedee.set_zlabel(z_as)\n",
    "plt.colorbar(p)\n",
    "plt.show()"
   ]
  },
  {
   "cell_type": "code",
   "execution_count": null,
   "metadata": {},
   "outputs": [],
   "source": [
    "driedee = plt.figure(figsize=(6,6)).gca(projection='3d')\n",
    "x_as = 'agression'\n",
    "y_as = 'spawn_chance'\n",
    "z_as = 'Avg_slowdown'\n",
    "kleur = 'lanes'\n",
    "p = driedee.scatter(rlanes[x_as], rlanes[y_as], rlanes[z_as], c=rlanes[kleur])\n",
    "driedee.set_xlabel(x_as)\n",
    "driedee.set_ylabel(y_as)\n",
    "driedee.set_zlabel(z_as)\n",
    "plt.colorbar(p)\n",
    "plt.show()"
   ]
  },
  {
   "cell_type": "code",
   "execution_count": null,
   "metadata": {},
   "outputs": [],
   "source": [
    "rl2 = pd.read_csv('batch_lanes_2.csv')\n",
    "rl2.drop(rl2.columns[0], axis=1, inplace=True)\n",
    "rl2g = rl2.groupby('Run')\n",
    "rl2g = rl2g.tail(5000).groupby('Run')\n",
    "rl2gm = rl2g.agg(np.mean)"
   ]
  },
  {
   "cell_type": "code",
   "execution_count": null,
   "metadata": {
    "scrolled": true
   },
   "outputs": [],
   "source": [
    "rl2gm"
   ]
  },
  {
   "cell_type": "code",
   "execution_count": null,
   "metadata": {
    "scrolled": false
   },
   "outputs": [],
   "source": [
    "driedee = plt.figure(figsize=(6,6)).gca(projection='3d')\n",
    "x_as = 'agression'\n",
    "y_as = 'spawn_chance'\n",
    "z_as = 'Avg_speed'\n",
    "kleur = 'lanes'\n",
    "p = driedee.scatter(rl2gm[x_as], rl2gm[y_as], rl2gm[z_as], c=rl2gm[kleur])\n",
    "driedee.set_xlabel(x_as)\n",
    "driedee.set_ylabel(y_as)\n",
    "driedee.set_zlabel(z_as)\n",
    "plt.colorbar(p)\n",
    "plt.show()"
   ]
  },
  {
   "cell_type": "code",
   "execution_count": null,
   "metadata": {},
   "outputs": [],
   "source": [
    "ofat1 = rlanes.loc[(rlanes['spawn_chance'] >= 0.2) & (rlanes['spawn_chance'] <= 0.4)]\n",
    "ofat2 = rl2gm.loc[(rl2gm['spawn_chance'] >= 0.2) & (rl2gm['spawn_chance'] <= 0.4)]\n",
    "ofat3 = rl3gm.loc[(rl3gm['spawn_chance'] >= 0.2) & (rl3gm['spawn_chance'] <= 0.4)]\n",
    "ofat4 = rl5gm.loc[(rl5gm['spawn_chance'] >= 0.2) & (rl5gm['spawn_chance'] <= 0.4)]\n",
    "ofat5 = rl6gm.loc[(rl6gm['spawn_chance'] >= 0.2) & (rl6gm['spawn_chance'] <= 0.4)]"
   ]
  },
  {
   "cell_type": "code",
   "execution_count": null,
   "metadata": {
    "scrolled": false
   },
   "outputs": [],
   "source": [
    "plt.figure(figsize=(4,4))\n",
    "cmap = plt.cm.viridis\n",
    "plt.scatter(ofat1['agression'], ofat1['Avg_speed'], c=ofat1['lanes'])\n",
    "plt.scatter(ofat2['agression'], ofat2['Avg_speed'], c=ofat2['lanes'])\n",
    "plt.scatter(ofat3['agression'], ofat3['Avg_speed'], c=ofat3['lanes'])\n",
    "plt.scatter(ofat4['agression'], 100 - ofat4['Avg_speed'], c=ofat4['lanes'])\n",
    "plt.scatter(ofat4['agression'], 100 - ofat4['Avg_speed'], c=ofat4['lanes'])\n",
    "legend_elements = [\n",
    "  Line2D([0], [0], color=cmap(0.1), label='3 lanes'),\n",
    "  Line2D([0], [0], color=cmap(0.5), label='4 lanes'),\n",
    "  Line2D([0], [0], color=cmap(1.0), label='5 lanes')\n",
    "]\n",
    "plt.legend(handles=legend_elements)\n",
    "plt.xlabel('Agression')\n",
    "plt.ylabel('Average speed [km/h]')\n",
    "plt.show()"
   ]
  },
  {
   "cell_type": "code",
   "execution_count": null,
   "metadata": {
    "scrolled": true
   },
   "outputs": [],
   "source": [
    "rl2gm"
   ]
  },
  {
   "cell_type": "code",
   "execution_count": null,
   "metadata": {},
   "outputs": [],
   "source": [
    "from matplotlib.lines import Line2D\n",
    "y_as = 'Avg_speed'\n",
    "x_as = 'Cars_in_lane'\n",
    "kleur = 'lanes'\n",
    "cmap = plt.cm.viridis\n",
    "plt.figure(figsize=(3,3))\n",
    "plt.scatter(rl2gm[x_as], rl2gm[y_as], c=rl2gm[kleur])\n",
    "plt.scatter(rl3gm[x_as], rl3gm[y_as], c=rl3gm[kleur])\n",
    "plt.scatter(rlanes[x_as], rlanes[y_as], c=rlanes[kleur])\n",
    "plt.scatter(rl4gm[x_as], rl4gm[y_as], c=rl4gm[kleur])\n",
    "plt.xlabel('Average number of cars')\n",
    "plt.ylabel('Average speed [km/h]')\n",
    "legend_elements = [\n",
    "  Line2D([0], [0], color=cmap(0.1), label='3 lanes'),\n",
    "  Line2D([0], [0], color=cmap(0.5), label='4 lanes'),\n",
    "  Line2D([0], [0], color=cmap(1.0), label='5 lanes')\n",
    "]\n",
    "plt.legend(handles=legend_elements)\n",
    "plt.show()"
   ]
  },
  {
   "cell_type": "code",
   "execution_count": null,
   "metadata": {},
   "outputs": [],
   "source": [
    "from matplotlib.lines import Line2D\n",
    "y_as = 'Avg_speed'\n",
    "x_as = 'Cars_in_lane'\n",
    "kleur = 'lanes'\n",
    "cmap = plt.cm.viridis\n",
    "plt.figure(figsize=(3,3))\n",
    "plt.scatter(rl2gm[x_as]/rl2gm[kleur], rl2gm[y_as], c=rl2gm[kleur])\n",
    "plt.scatter(rl3gm[x_as]/rl3gm[kleur], rl3gm[y_as], c=rl3gm[kleur])\n",
    "plt.scatter(rlanes[x_as]/rlanes[kleur], rlanes[y_as], c=rlanes[kleur])\n",
    "plt.scatter(rl4gm[x_as]/rl4gm[kleur], rl4gm[y_as], c=rl4gm[kleur])\n",
    "plt.xlabel('Average number of cars per lane')\n",
    "plt.ylabel('Average speed [km/h]')\n",
    "legend_elements = [\n",
    "  Line2D([0], [0], color=cmap(0.1), label='3 lanes'),\n",
    "  Line2D([0], [0], color=cmap(0.5), label='4 lanes'),\n",
    "  Line2D([0], [0], color=cmap(1.0), label='5 lanes')\n",
    "]\n",
    "plt.legend(handles=legend_elements)\n",
    "plt.show()"
   ]
  },
  {
   "cell_type": "code",
   "execution_count": null,
   "metadata": {},
   "outputs": [],
   "source": []
  },
  {
   "cell_type": "code",
   "execution_count": null,
   "metadata": {},
   "outputs": [],
   "source": []
  },
  {
   "cell_type": "code",
   "execution_count": null,
   "metadata": {},
   "outputs": [],
   "source": []
  },
  {
   "cell_type": "code",
   "execution_count": null,
   "metadata": {},
   "outputs": [],
   "source": []
  }
 ],
 "metadata": {
  "kernelspec": {
   "display_name": "Python 3",
   "language": "python",
   "name": "python3"
  },
  "language_info": {
   "codemirror_mode": {
    "name": "ipython",
    "version": 3
   },
   "file_extension": ".py",
   "mimetype": "text/x-python",
   "name": "python",
   "nbconvert_exporter": "python",
   "pygments_lexer": "ipython3",
   "version": "3.7.2"
  }
 },
 "nbformat": 4,
 "nbformat_minor": 2
}
